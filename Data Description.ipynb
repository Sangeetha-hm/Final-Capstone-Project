{
 "cells": [
  {
   "cell_type": "markdown",
   "metadata": {},
   "source": [
    "<h1>Data Description</h1>"
   ]
  },
  {
   "cell_type": "markdown",
   "metadata": {},
   "source": [
    "This project aims to tap into Foursquare's Location data to collate raw data on the busiest venues across neighborhoods in New York at any given point in time.\n",
    "\n",
    "Using machine learning on the below mentioned datasets, the project aims to deduce hotspots across the city with the most footfall to predict demand for taxis."
   ]
  },
  {
   "cell_type": "markdown",
   "metadata": {},
   "source": [
    "<b>1. Location data for Newyork Neighnorhoods</b>"
   ]
  },
  {
   "cell_type": "markdown",
   "metadata": {},
   "source": [
    "This data is taken from the Newyork government website. The data is available as a table on the HTML page. We then use web scraping to get data in a json format. This is further processed and the resulting data is converted into a csv.\n",
    "\n",
    "Website used for this purpose -  https://www.health.ny.gov/statistics/cancer/registry/appendix/neighborhoods.htm"
   ]
  },
  {
   "cell_type": "markdown",
   "metadata": {},
   "source": [
    "<b>2. Foursquare API data for the trending venues</b>"
   ]
  },
  {
   "cell_type": "markdown",
   "metadata": {},
   "source": [
    "The project intends to use the 'Trending Venues' API for gathering this data from Foursquare. The result of this API is in json format which is then converted into a pandas dataframe with the required dataset.\n"
   ]
  },
  {
   "cell_type": "markdown",
   "metadata": {},
   "source": []
  }
 ],
 "metadata": {
  "kernelspec": {
   "display_name": "Python 3",
   "language": "python",
   "name": "python3"
  },
  "language_info": {
   "codemirror_mode": {
    "name": "ipython",
    "version": 3
   },
   "file_extension": ".py",
   "mimetype": "text/x-python",
   "name": "python",
   "nbconvert_exporter": "python",
   "pygments_lexer": "ipython3",
   "version": "3.6.6"
  }
 },
 "nbformat": 4,
 "nbformat_minor": 2
}
