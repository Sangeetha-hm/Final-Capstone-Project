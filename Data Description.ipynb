{
 "cells": [
  {
   "cell_type": "markdown",
   "metadata": {},
   "source": [
    "<h1>Data Description</h1>"
   ]
  },
  {
   "cell_type": "markdown",
   "metadata": {},
   "source": [
    "This project aims to tap into Foursquare's Location data to collate raw data on the busiest venues across neighborhoods in New York at any given point in time. \n",
    "\n",
    "The project intends to use the 'Trending Venues' API for gathering this data from Foursquare. \n",
    "\n",
    "The Newyork government website will be scraped to cross-reference postal codes of trending venues to neighborhoods and bouroughs of New York. Website used for this purpose -  https://www.health.ny.gov/statistics/cancer/registry/appendix/neighborhoods.htm . \n",
    "\n",
    "Using machine learning on these two datasets, the project aims to deduce hotspots across the city with the most footfall to predict demand for taxis."
   ]
  },
  {
   "cell_type": "code",
   "execution_count": null,
   "metadata": {},
   "outputs": [],
   "source": []
  }
 ],
 "metadata": {
  "kernelspec": {
   "display_name": "Python 3",
   "language": "python",
   "name": "python3"
  },
  "language_info": {
   "codemirror_mode": {
    "name": "ipython",
    "version": 3
   },
   "file_extension": ".py",
   "mimetype": "text/x-python",
   "name": "python",
   "nbconvert_exporter": "python",
   "pygments_lexer": "ipython3",
   "version": "3.6.6"
  }
 },
 "nbformat": 4,
 "nbformat_minor": 2
}
